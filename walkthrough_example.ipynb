{
 "cells": [
  {
   "cell_type": "markdown",
   "metadata": {},
   "source": [
    "# DeeperMD Package \n",
    "\n",
    "This package builds on the features provided in the Machine learning interatomic potential (MLIP) development package, DeepMD, streamlining the data preparation, model training, and model validation. By interfacing with dpdata (data preparation package), LAMMPS (molecular dynamics software), and deepmd (MLIP software), the DeeperMD package cleans up the model development process. New functionalities like hyperparameter optimization are included in the package to optimize model parameters."
   ]
  },
  {
   "attachments": {},
   "cell_type": "markdown",
   "metadata": {},
   "source": [
    "<div>\n",
    "<img src=\"images/deepermd_summary.png\" width=\"1000\"/>\n",
    "</div>"
   ]
  },
  {
   "cell_type": "markdown",
   "metadata": {},
   "source": [
    "## Data Preparation Sub-Package"
   ]
  },
  {
   "cell_type": "markdown",
   "metadata": {},
   "source": [
    "Separated into two modules: `process_data` and `cross_val`\n",
    "\n",
    "This subpackage reads in DFT data (currently only OUTCARs supported), and processes them for use in ML-based potentials. "
   ]
  },
  {
   "attachments": {},
   "cell_type": "markdown",
   "metadata": {},
   "source": [
    "#### **process_data**\n",
    "\n",
    "converts OUTCARs to `.npy` via `dpdata` package, separating data into training and validation directories based on a defined training split proportion."
   ]
  },
  {
   "cell_type": "code",
   "execution_count": 1,
   "metadata": {},
   "outputs": [],
   "source": [
    "#import functions\n",
    "from deepermd.data_prep.process_data import OUTCAR_to_ms,OUTCAR_to_npy,train_test_split"
   ]
  },
  {
   "cell_type": "code",
   "execution_count": 2,
   "metadata": {},
   "outputs": [],
   "source": [
    "#define parameters to be used in functions \n",
    "par = 'raw_data/B4C'\n",
    "dest = 'example'\n",
    "sub = ['temperature_hold','small_strains']\n",
    "run = ['temperature_hold','shear_strain','volumetric_strain','uniaxial_strain']"
   ]
  },
  {
   "attachments": {},
   "cell_type": "markdown",
   "metadata": {},
   "source": [
    "<div>\n",
    "<img src=\"images/raw_data_tree.png\" width=\"1000\"/>\n",
    "</div>"
   ]
  },
  {
   "cell_type": "markdown",
   "metadata": {},
   "source": [
    "#### `OUTCAR_to_ms`\n",
    "\n",
    "converts OUTCARs from given `parent_directory` to DeepMD MultiSystem() object for storage of systems and data management."
   ]
  },
  {
   "cell_type": "code",
   "execution_count": 3,
   "metadata": {},
   "outputs": [],
   "source": [
    "#convert OUTCAR to deepmd MultiSystem() object \n",
    "ms,ms_virial,count_novirial,count_virial = OUTCAR_to_ms(\n",
    "    parent_dir=par,\n",
    "    sub_dirs=sub,\n",
    "    run_types=run,\n",
    "    )"
   ]
  },
  {
   "cell_type": "code",
   "execution_count": 4,
   "metadata": {},
   "outputs": [
    {
     "data": {
      "text/plain": [
       "{'B104C16': Data Summary\n",
       " Labeled System\n",
       " -------------------\n",
       " Frame Numbers      : 100\n",
       " Atom Numbers       : 120\n",
       " Including Virials  : No\n",
       " Element List       :\n",
       " -------------------\n",
       " B  C\n",
       " 104  16,\n",
       " 'B96C24': Data Summary\n",
       " Labeled System\n",
       " -------------------\n",
       " Frame Numbers      : 100\n",
       " Atom Numbers       : 120\n",
       " Including Virials  : No\n",
       " Element List       :\n",
       " -------------------\n",
       " B  C\n",
       " 96  24}"
      ]
     },
     "execution_count": 4,
     "metadata": {},
     "output_type": "execute_result"
    }
   ],
   "source": [
    "ms.systems"
   ]
  },
  {
   "cell_type": "code",
   "execution_count": 5,
   "metadata": {},
   "outputs": [
    {
     "data": {
      "text/plain": [
       "{'B104C16': Data Summary\n",
       " Labeled System\n",
       " -------------------\n",
       " Frame Numbers      : 600\n",
       " Atom Numbers       : 120\n",
       " Including Virials  : Yes\n",
       " Element List       :\n",
       " -------------------\n",
       " B  C\n",
       " 104  16,\n",
       " 'B96C24': Data Summary\n",
       " Labeled System\n",
       " -------------------\n",
       " Frame Numbers      : 600\n",
       " Atom Numbers       : 120\n",
       " Including Virials  : Yes\n",
       " Element List       :\n",
       " -------------------\n",
       " B  C\n",
       " 96  24}"
      ]
     },
     "execution_count": 5,
     "metadata": {},
     "output_type": "execute_result"
    }
   ],
   "source": [
    "ms_virial.systems"
   ]
  },
  {
   "attachments": {},
   "cell_type": "markdown",
   "metadata": {},
   "source": [
    "`count_virial` gives the total numer of frames from each run type in the form of a dictionary."
   ]
  },
  {
   "cell_type": "code",
   "execution_count": 6,
   "metadata": {},
   "outputs": [
    {
     "data": {
      "text/plain": [
       "{'temperature_hold': 1200,\n",
       " 'shear_strain': 0,\n",
       " 'volumetric_strain': 0,\n",
       " 'uniaxial_strain': 0}"
      ]
     },
     "execution_count": 6,
     "metadata": {},
     "output_type": "execute_result"
    }
   ],
   "source": [
    "count_virial"
   ]
  },
  {
   "attachments": {},
   "cell_type": "markdown",
   "metadata": {},
   "source": [
    "Once the data has been transferred to a MultiSystem object, it can be converted to `.npy` files and stored in the `dest` directory"
   ]
  },
  {
   "cell_type": "code",
   "execution_count": 7,
   "metadata": {},
   "outputs": [
    {
     "data": {
      "text/plain": [
       "MultiSystems (2 systems containing 1200 frames)"
      ]
     },
     "execution_count": 7,
     "metadata": {},
     "output_type": "execute_result"
    }
   ],
   "source": [
    "#Convert systems to npy files via deepmd package \n",
    "ms.to_deepmd_npy(os.path.join(dest,'no_virials'),set_size = 1000000)\n",
    "ms_virial.to_deepmd_npy(os.path.join(dest,'virials'),set_size = 1000000)"
   ]
  },
  {
   "attachments": {},
   "cell_type": "markdown",
   "metadata": {},
   "source": [
    "#### `train_test_split`\n",
    "\n",
    "scrubs destination dir for `.npy` files and splits into train-test sets. After running the below cell, the `dest` directory will include a `training` and `validation` directory with the chosen proportion of data within each (default 90-10 split)."
   ]
  },
  {
   "cell_type": "code",
   "execution_count": 8,
   "metadata": {},
   "outputs": [],
   "source": [
    "train_test_split(\n",
    "    destination_dir=dest,\n",
    "    train_split=0.9,\n",
    "    ms_virial=ms_virial,\n",
    "    ms=ms)"
   ]
  },
  {
   "cell_type": "markdown",
   "metadata": {},
   "source": [
    "#### `OUTCAR_to_npy`\n",
    "\n",
    "Combines the above functions in one end-to-end method to simplify data preparation stage."
   ]
  },
  {
   "cell_type": "code",
   "execution_count": 9,
   "metadata": {},
   "outputs": [],
   "source": [
    "import shutil\n",
    "shutil.rmtree(dest)"
   ]
  },
  {
   "cell_type": "code",
   "execution_count": 10,
   "metadata": {},
   "outputs": [],
   "source": [
    "ms_nov,ms_v,count_nov,count_v = OUTCAR_to_npy(\n",
    "    parent_dir=par,\n",
    "    destination_dir=dest,\n",
    "    run_types=run)"
   ]
  },
  {
   "attachments": {},
   "cell_type": "markdown",
   "metadata": {},
   "source": [
    "### gen_cval_data\n",
    "\n",
    "This sub-module splits training and validation data into k-sets for use in k-fold cross-validation. This is a mostly back-end package for use in hyperparameter optimization data preparation.\n"
   ]
  },
  {
   "attachments": {},
   "cell_type": "markdown",
   "metadata": {},
   "source": [
    "#### `gen_data_dir`"
   ]
  },
  {
   "cell_type": "code",
   "execution_count": 11,
   "metadata": {},
   "outputs": [],
   "source": [
    "from deepermd.data_prep import gen_cval_data"
   ]
  },
  {
   "cell_type": "code",
   "execution_count": 12,
   "metadata": {},
   "outputs": [],
   "source": [
    "import os\n",
    "train_path = 'example/virials/training_data'\n",
    "destination = os.getcwd()"
   ]
  },
  {
   "cell_type": "code",
   "execution_count": 13,
   "metadata": {},
   "outputs": [
    {
     "name": "stdout",
     "output_type": "stream",
     "text": [
      "cross-validation data directory tree generated at:\n",
      "/blue/subhash/kimia.gh/python_course/Final_project/cval\n"
     ]
    }
   ],
   "source": [
    "gen_cval_data.gen_data_dir(\n",
    "    training_path=train_path,\n",
    "    destination_path=destination,\n",
    "    k = 4\n",
    ")"
   ]
  },
  {
   "attachments": {},
   "cell_type": "markdown",
   "metadata": {},
   "source": [
    "This function generates a directory tree that will be accessed by the training module if cross-validation is chosen to be included during training.\n",
    "\n",
    "<div>\n",
    "<img src=\"images/cval_data_tree.png\" width=\"1000\"/>\n",
    "</div>"
   ]
  },
  {
   "attachments": {},
   "cell_type": "markdown",
   "metadata": {},
   "source": [
    "**NOTE** this function MUST be ran before training with cross validation."
   ]
  },
  {
   "cell_type": "markdown",
   "metadata": {},
   "source": [
    "## Model Training Sub-Package\n",
    "\n",
    "separated into 4 sub-modules: `hyperparam_optimization`, `hyperparam_train_test`, `post_training_handling`, and `train`."
   ]
  },
  {
   "cell_type": "code",
   "execution_count": 14,
   "metadata": {},
   "outputs": [],
   "source": [
    "from deepermd.training import hyperparam_optimization, hyperparam_train_test, post_training_handling, train"
   ]
  },
  {
   "attachments": {},
   "cell_type": "markdown",
   "metadata": {},
   "source": [
    "define parameters and their values for optimization. The key for this params dictionary should be the sequence of keys leading to the desired parameter from the input json given to deepmd."
   ]
  },
  {
   "cell_type": "code",
   "execution_count": 15,
   "metadata": {},
   "outputs": [],
   "source": [
    "params={\n",
    "    \"model descriptor axis_neuron\":[4,8],\n",
    "    \"model fitting_net neuron\":[[10,10],[20,20]]\n",
    "    }"
   ]
  },
  {
   "attachments": {},
   "cell_type": "markdown",
   "metadata": {},
   "source": [
    "#### Submodule `hyperparam_train_test` \n",
    "\n",
    "#### `hyperparam_optimize()`\n",
    "This function wraps the following functions together: \n",
    "- `hyperparam_train_test.json_dir_gen_1d`\n",
    "- `hyperparam_train_test.hyperparam_train`\n",
    "- `hyperparam_train_test.hyperparam_test`\n",
    "- `post_training_handling.lammps_lat_const_modifier`\n",
    "- `hyperparam_train_test.hyperparam_lammps`\n",
    "    \n",
    "This function goal is to generate json and model directories \n",
    "corresponding to a user specified parameter dictionary. Models will \n",
    "be trained based on json, frozen, compressed (if desicred), \n",
    "tested, and their lattice constants and cohesive energies evaluated\n",
    "via LAMMPS simulations (if desired)."
   ]
  },
  {
   "cell_type": "code",
   "execution_count": 16,
   "metadata": {},
   "outputs": [],
   "source": [
    "import os\n",
    "base = os.path.join(os.getcwd(),'base.json')"
   ]
  },
  {
   "attachments": {},
   "cell_type": "markdown",
   "metadata": {},
   "source": [
    "This function can take several minutes to hours to run depending on the number of parameters chosen for optimization, as well as the variation in their respective values."
   ]
  },
  {
   "cell_type": "code",
   "execution_count": 21,
   "metadata": {},
   "outputs": [
    {
     "ename": "KeyboardInterrupt",
     "evalue": "",
     "output_type": "error",
     "traceback": [
      "\u001b[0;31m---------------------------------------------------------------------------\u001b[0m",
      "\u001b[0;31mKeyboardInterrupt\u001b[0m                         Traceback (most recent call last)",
      "Cell \u001b[0;32mIn [21], line 1\u001b[0m\n\u001b[0;32m----> 1\u001b[0m hyperparam_train_test\u001b[39m.\u001b[39;49mhyperparam_optimize(\n\u001b[1;32m      2\u001b[0m     directory\u001b[39m=\u001b[39;49mos\u001b[39m.\u001b[39;49mgetcwd(),\n\u001b[1;32m      3\u001b[0m     base_json\u001b[39m=\u001b[39;49mbase,\n\u001b[1;32m      4\u001b[0m     param_dict\u001b[39m=\u001b[39;49mparams,\n\u001b[1;32m      5\u001b[0m     n\u001b[39m=\u001b[39;49m\u001b[39m30\u001b[39;49m,\n\u001b[1;32m      6\u001b[0m     test_model\u001b[39m=\u001b[39;49m\u001b[39m'\u001b[39;49m\u001b[39mgraph-compress.pb\u001b[39;49m\u001b[39m'\u001b[39;49m,\n\u001b[1;32m      7\u001b[0m     d1_dir\u001b[39m=\u001b[39;49m\u001b[39m'\u001b[39;49m\u001b[39m1d_gridsearch\u001b[39;49m\u001b[39m'\u001b[39;49m,\n\u001b[1;32m      8\u001b[0m     frozen_model\u001b[39m=\u001b[39;49m\u001b[39m'\u001b[39;49m\u001b[39mgraph.pb\u001b[39;49m\u001b[39m'\u001b[39;49m,\n\u001b[1;32m      9\u001b[0m     compression\u001b[39m=\u001b[39;49m\u001b[39mTrue\u001b[39;49;00m,\n\u001b[1;32m     10\u001b[0m     compressed_model\u001b[39m=\u001b[39;49m\u001b[39m'\u001b[39;49m\u001b[39mgraph-compress.pb\u001b[39;49m\u001b[39m'\u001b[39;49m,\n\u001b[1;32m     11\u001b[0m     path_to_cval\u001b[39m=\u001b[39;49mos\u001b[39m.\u001b[39;49mpath\u001b[39m.\u001b[39;49mjoin(os\u001b[39m.\u001b[39;49mgetcwd(),\u001b[39m'\u001b[39;49m\u001b[39mcval\u001b[39;49m\u001b[39m'\u001b[39;49m),\n\u001b[1;32m     12\u001b[0m     gen_cval_data\u001b[39m=\u001b[39;49m\u001b[39mTrue\u001b[39;49;00m,\n\u001b[1;32m     13\u001b[0m     crossval\u001b[39m=\u001b[39;49m\u001b[39mTrue\u001b[39;49;00m,\n\u001b[1;32m     14\u001b[0m     training_path\u001b[39m=\u001b[39;49m\u001b[39mNone\u001b[39;49;00m,\n\u001b[1;32m     15\u001b[0m     validation_path\u001b[39m=\u001b[39;49m\u001b[39mNone\u001b[39;49;00m,\n\u001b[1;32m     16\u001b[0m     test_path\u001b[39m=\u001b[39;49m\u001b[39mNone\u001b[39;49;00m,\n\u001b[1;32m     17\u001b[0m     multisystem\u001b[39m=\u001b[39;49m\u001b[39mTrue\u001b[39;49;00m,\n\u001b[1;32m     18\u001b[0m     lammps\u001b[39m=\u001b[39;49m\u001b[39mTrue\u001b[39;49;00m,\n\u001b[1;32m     19\u001b[0m     lammps_model\u001b[39m=\u001b[39;49m\u001b[39m'\u001b[39;49m\u001b[39mgraph-compress.pb\u001b[39;49m\u001b[39m'\u001b[39;49m,\n\u001b[1;32m     20\u001b[0m     lammps_data\u001b[39m=\u001b[39;49mos\u001b[39m.\u001b[39;49mpath\u001b[39m.\u001b[39;49mjoin(os\u001b[39m.\u001b[39;49mgetcwd(),\u001b[39m'\u001b[39;49m\u001b[39mlammps_files\u001b[39;49m\u001b[39m'\u001b[39;49m,\u001b[39m'\u001b[39;49m\u001b[39mdata.b4c_cell\u001b[39;49m\u001b[39m'\u001b[39;49m),\n\u001b[1;32m     21\u001b[0m     lammps_script\u001b[39m=\u001b[39;49mos\u001b[39m.\u001b[39;49mpath\u001b[39m.\u001b[39;49mjoin(os\u001b[39m.\u001b[39;49mgetcwd(),\u001b[39m'\u001b[39;49m\u001b[39mlammps_files\u001b[39;49m\u001b[39m'\u001b[39;49m,\u001b[39m'\u001b[39;49m\u001b[39min.lattice_constants\u001b[39;49m\u001b[39m'\u001b[39;49m),\n\u001b[1;32m     22\u001b[0m     ref_len\u001b[39m=\u001b[39;49m\u001b[39m5.65\u001b[39;49m,\n\u001b[1;32m     23\u001b[0m     ref_coh\u001b[39m=\u001b[39;49m\u001b[39m-\u001b[39;49m\u001b[39m7.2183\u001b[39;49m)\n",
      "File \u001b[0;32m/blue/subhash/kimia.gh/python_course/Final_project/deepermd/training/hyperparam_train_test.py:671\u001b[0m, in \u001b[0;36mhyperparam_optimize\u001b[0;34m(directory, base_json, param_dict, n, test_model, d1_dir, frozen_model, compression, compressed_model, path_to_cval, gen_cval_data, crossval, training_path, validation_path, test_path, multisystem, lammps, lammps_model, lammps_script, lammps_data, units, boundary, ref_len, ref_coh)\u001b[0m\n\u001b[1;32m    666\u001b[0m json_dir_gen_1d(base_json\u001b[39m=\u001b[39mbase_json,param_dict\u001b[39m=\u001b[39mparam_dict,\\\n\u001b[1;32m    667\u001b[0m     path_to_cval\u001b[39m=\u001b[39mpath_to_cval,gen_cval_data\u001b[39m=\u001b[39mgen_cval_data,\\\n\u001b[1;32m    668\u001b[0m     training_path\u001b[39m=\u001b[39mtraining_path,validation_path\u001b[39m=\u001b[39mvalidation_path,\\\n\u001b[1;32m    669\u001b[0m         crossval\u001b[39m=\u001b[39mcrossval,d1_dir\u001b[39m=\u001b[39md1_dir)\n\u001b[1;32m    670\u001b[0m \u001b[39m#calls function to train models, freeze, and compress if necessary\u001b[39;00m\n\u001b[0;32m--> 671\u001b[0m hyperparam_train(directory\u001b[39m=\u001b[39;49mdirectory,d1_dir\u001b[39m=\u001b[39;49md1_dir,\\\n\u001b[1;32m    672\u001b[0m     path_to_cval\u001b[39m=\u001b[39;49mpath_to_cval,gen_cval_data\u001b[39m=\u001b[39;49mgen_cval_data,\\\n\u001b[1;32m    673\u001b[0m     compression\u001b[39m=\u001b[39;49mcompression,crossval\u001b[39m=\u001b[39;49mcrossval,frozen_model\u001b[39m=\u001b[39;49mfrozen_model,\\\n\u001b[1;32m    674\u001b[0m         compressed_model\u001b[39m=\u001b[39;49mcompressed_model)\n\u001b[1;32m    675\u001b[0m hyperparam_test(directory\u001b[39m=\u001b[39mdirectory,d1_dir\u001b[39m=\u001b[39md1_dir,param_dict\u001b[39m=\u001b[39mparam_dict,\\\n\u001b[1;32m    676\u001b[0m     test_model\u001b[39m=\u001b[39mtest_model,n\u001b[39m=\u001b[39mn,path_to_cval\u001b[39m=\u001b[39mpath_to_cval,\\\n\u001b[1;32m    677\u001b[0m     multisystem\u001b[39m=\u001b[39mmultisystem,test_path\u001b[39m=\u001b[39mtest_path,crossval\u001b[39m=\u001b[39mcrossval)\n\u001b[1;32m    678\u001b[0m \u001b[39mif\u001b[39;00m lammps\u001b[39m==\u001b[39m\u001b[39mTrue\u001b[39;00m:\n",
      "File \u001b[0;32m/blue/subhash/kimia.gh/python_course/Final_project/deepermd/training/hyperparam_train_test.py:362\u001b[0m, in \u001b[0;36mhyperparam_train\u001b[0;34m(directory, d1_dir, path_to_cval, gen_cval_data, compression, crossval, frozen_model, compressed_model)\u001b[0m\n\u001b[1;32m    359\u001b[0m logger\u001b[39m.\u001b[39minfo(\u001b[39m\"\u001b[39m\u001b[39mTraining began\u001b[39m\u001b[39m\"\u001b[39m)\n\u001b[1;32m    360\u001b[0m set_switcher(path_to_cval\u001b[39m=\u001b[39mpath_to_cval\\\n\u001b[1;32m    361\u001b[0m              ,switch_set_index\u001b[39m=\u001b[39mi)\n\u001b[0;32m--> 362\u001b[0m train\u001b[39m.\u001b[39;49mtrain(input_script\u001b[39m=\u001b[39;49minput_json[\u001b[39m0\u001b[39;49m],directory\u001b[39m=\u001b[39;49m\\\n\u001b[1;32m    363\u001b[0m             kmodelpath)\n\u001b[1;32m    364\u001b[0m logger\u001b[39m.\u001b[39minfo(\u001b[39mf\u001b[39m\u001b[39m\"\u001b[39m\u001b[39mTraining completed for fold \u001b[39m\u001b[39m{\u001b[39;00mi\u001b[39m}\u001b[39;00m\u001b[39m\"\u001b[39m)\n\u001b[1;32m    365\u001b[0m logger\u001b[39m.\u001b[39minfo(\u001b[39mf\u001b[39m\u001b[39m\"\u001b[39m\u001b[39mFreezing model \u001b[39m\u001b[39m{\u001b[39;00mmodel\u001b[39m}\u001b[39;00m\u001b[39m fold \u001b[39m\u001b[39m{\u001b[39;00mi\u001b[39m}\u001b[39;00m\u001b[39m\"\u001b[39m)\n",
      "File \u001b[0;32m/blue/subhash/kimia.gh/python_course/Final_project/deepermd/training/train.py:37\u001b[0m, in \u001b[0;36mtrain\u001b[0;34m(input_script, directory)\u001b[0m\n\u001b[1;32m     35\u001b[0m                         \u001b[39mif\u001b[39;00m ((\u001b[39m\"\u001b[39m\u001b[39mfinished\u001b[39m\u001b[39m\"\u001b[39m \u001b[39min\u001b[39;00m words) \u001b[39mand\u001b[39;00m (\u001b[39m\"\u001b[39m\u001b[39mtraining\u001b[39m\u001b[39m\"\u001b[39m \u001b[39min\u001b[39;00m words)):\n\u001b[1;32m     36\u001b[0m                             flag\u001b[39m=\u001b[39m\u001b[39m2\u001b[39m\n\u001b[0;32m---> 37\u001b[0m                     time\u001b[39m.\u001b[39;49msleep(\u001b[39m30\u001b[39;49m)\n\u001b[1;32m     38\u001b[0m             time\u001b[39m.\u001b[39msleep(\u001b[39m10\u001b[39m)\n\u001b[1;32m     39\u001b[0m \u001b[39melse\u001b[39;00m:\n",
      "\u001b[0;31mKeyboardInterrupt\u001b[0m: "
     ]
    }
   ],
   "source": [
    "hyperparam_train_test.hyperparam_optimize(\n",
    "    directory=os.getcwd(),\n",
    "    base_json=base,\n",
    "    param_dict=params,\n",
    "    n=30,\n",
    "    test_model='graph-compress.pb',\n",
    "    d1_dir='1d_gridsearch',\n",
    "    frozen_model='graph.pb',\n",
    "    compression=True,\n",
    "    compressed_model='graph-compress.pb',\n",
    "    path_to_cval=os.path.join(os.getcwd(),'cval'),\n",
    "    gen_cval_data=True,\n",
    "    crossval=True,\n",
    "    training_path=None,\n",
    "    validation_path=None,\n",
    "    test_path=None,\n",
    "    multisystem=True,\n",
    "    lammps=True,\n",
    "    lammps_model='graph-compress.pb',\n",
    "    lammps_data=os.path.join(os.getcwd(),'lammps_files','data.b4c_cell'),\n",
    "    lammps_script=os.path.join(os.getcwd(),'lammps_files','in.lattice_constants'),\n",
    "    ref_len=5.65,\n",
    "    ref_coh=-7.2183)\n"
   ]
  },
  {
   "cell_type": "code",
   "execution_count": null,
   "metadata": {},
   "outputs": [],
   "source": []
  }
 ],
 "metadata": {
  "kernelspec": {
   "display_name": "deepmd",
   "language": "python",
   "name": "python3"
  },
  "language_info": {
   "codemirror_mode": {
    "name": "ipython",
    "version": 3
   },
   "file_extension": ".py",
   "mimetype": "text/x-python",
   "name": "python",
   "nbconvert_exporter": "python",
   "pygments_lexer": "ipython3",
   "version": "3.9.15"
  },
  "orig_nbformat": 4,
  "vscode": {
   "interpreter": {
    "hash": "c5d5768a84611b4326304faea7dccd43e75565fee5ca73099368bfc1e0a4da0d"
   }
  }
 },
 "nbformat": 4,
 "nbformat_minor": 2
}
