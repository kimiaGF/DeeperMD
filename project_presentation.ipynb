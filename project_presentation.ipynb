{
 "cells": [
  {
   "cell_type": "markdown",
   "metadata": {},
   "source": [
    "# DeeperMD Package \n",
    "\n",
    "This package builds on the features provided in the Machine learning interatomic potential (MLIP) development package, DeepMD, streamlining the data preparation, model training, and model validation. By interfacing with dpdata (data preparation package), LAMMPS (molecular dynamics software), and deepmd (MLIP software), the DeeperMD package cleans up the model development process. New functionalities like hyperparameter optimization are included in the package to optimize model parameters."
   ]
  },
  {
   "cell_type": "markdown",
   "metadata": {},
   "source": [
    "## Data Preparation Module"
   ]
  },
  {
   "cell_type": "markdown",
   "metadata": {},
   "source": []
  },
  {
   "cell_type": "markdown",
   "metadata": {},
   "source": [
    "## Model Training Module"
   ]
  },
  {
   "cell_type": "code",
   "execution_count": 1,
   "metadata": {},
   "outputs": [
    {
     "ename": "",
     "evalue": "",
     "output_type": "error",
     "traceback": [
      "\u001b[1;31mThe Kernel crashed while executing code in the the current cell or a previous cell. Please review the code in the cell(s) to identify a possible cause of the failure. Click <a href='https://aka.ms/vscodeJupyterKernelCrash'>here</a> for more info. View Jupyter <a href='command:jupyter.viewOutput'>log</a> for further details."
     ]
    },
    {
     "ename": "",
     "evalue": "",
     "output_type": "error",
     "traceback": [
      "\u001b[1;31mCanceled future for execute_request message before replies were done"
     ]
    }
   ],
   "source": [
    "import hyperparam_optimization\n",
    "import hyperparam_train_test\n",
    "import post_training_handling\n",
    "import train\n"
   ]
  },
  {
   "cell_type": "code",
   "execution_count": null,
   "metadata": {},
   "outputs": [],
   "source": [
    "\n",
    "params={\"model descriptor rcut\":[4.0,5.0,6.0,7.0],\"model descriptor rcut_smth\":[1.0,1.5,2.0,2.5,3.0],\"model descriptor axis_neuron\":[4,8,12,16],\"model fitting_net neuron\":[[10,10],[50,50],[50,50,50],[10,10,10],[100,100],[100,100,100]]}\n",
    "\n",
    "post_training_handling.lammps_lat_const_modifier(model='graph_compress.pb',\\\n",
    "    data='/blue/subhash/michaelmacisaac/functions/deepmd/model1/data.b4c_cell',lammps_script='in.lattice_constants')"
   ]
  },
  {
   "cell_type": "code",
   "execution_count": null,
   "metadata": {},
   "outputs": [],
   "source": [
    "hyperparam_optimization.json_dir_gen_1d(\\\n",
    "        base_json='base.json', param_dict=params,\\\n",
    "        training_paths='/home/kimia.gh/blue2/python_course/test_03/virials/training_data',\\\n",
    "        validation_paths='/home/kimia.gh/blue2/python_course/test_03/virials/validation_data',\\\n",
    "            crossval=False,d1_dir='1d_gridsearch')"
   ]
  },
  {
   "cell_type": "code",
   "execution_count": null,
   "metadata": {},
   "outputs": [],
   "source": [
    "post_training_handling.lammps_lat_const_modifier(model='graph_compress.pb',\\\n",
    "    data='/blue/subhash/michaelmacisaac/functions/deepmd/model1/data.b4c_cell',lammps_script='in.lattice_constants')"
   ]
  },
  {
   "cell_type": "code",
   "execution_count": null,
   "metadata": {},
   "outputs": [],
   "source": [
    "hyperparam_train_test.hyperparam_train_test(directory='/blue/subhash/michaelmacisaac/functions/deepmd/model1',d1_dir='1d_gridsearch',\\\n",
    "            lammps_script='/blue/subhash/michaelmacisaac/functions/deepmd/model1/in.lattice_constants', ref_len=5.65, ref_coh=-7.2183,compression=True\\\n",
    "                ,crossval=False)"
   ]
  },
  {
   "cell_type": "markdown",
   "metadata": {},
   "source": []
  },
  {
   "cell_type": "markdown",
   "metadata": {},
   "source": [
    "# Model Validation Module"
   ]
  },
  {
   "cell_type": "markdown",
   "metadata": {},
   "source": [
    "\n"
   ]
  },
  {
   "cell_type": "markdown",
   "metadata": {},
   "source": []
  }
 ],
 "metadata": {
  "kernelspec": {
   "display_name": "Python 3.9.7 ('DPMD')",
   "language": "python",
   "name": "python3"
  },
  "language_info": {
   "codemirror_mode": {
    "name": "ipython",
    "version": 3
   },
   "file_extension": ".py",
   "mimetype": "text/x-python",
   "name": "python",
   "nbconvert_exporter": "python",
   "pygments_lexer": "ipython3",
   "version": "3.9.7"
  },
  "orig_nbformat": 4,
  "vscode": {
   "interpreter": {
    "hash": "e0926e8fe1ef8e11e17f6511f0c71d6b2753b5020b65bf69024b63cc78aafefd"
   }
  }
 },
 "nbformat": 4,
 "nbformat_minor": 2
}
