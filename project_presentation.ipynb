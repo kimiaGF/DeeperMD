{
 "cells": [
  {
   "cell_type": "markdown",
   "metadata": {},
   "source": [
    "# DeeperMD Package \n",
    "\n",
    "This package builds on the features provided in the Machine learning interatomic potential (MLIP) development package, DeepMD, streamlining the data preparation, model training, and model validation. By interfacing with dpdata (data preparation package), LAMMPS (molecular dynamics software), and deepmd (MLIP software), the DeeperMD package cleans up the model development process. New functionalities like hyperparameter optimization are included in the package to optimize model parameters."
   ]
  },
  {
   "cell_type": "markdown",
   "metadata": {},
   "source": [
    "<div>\n",
    "<img src=\"images/deepermd-01.png\" width=\"1000\"/>\n",
    "</div>"
   ]
  },
  {
   "cell_type": "markdown",
   "metadata": {},
   "source": [
    "## Data Preparation Sub-Package"
   ]
  },
  {
   "cell_type": "markdown",
   "metadata": {},
   "source": [
    "Separated into two modules: `process_data` and `cross_val`\n",
    "\n",
    "This subpackage reads in DFT data (currently only OUTCARs supported), and processes them for use in ML-based potentials. "
   ]
  },
  {
   "cell_type": "markdown",
   "metadata": {},
   "source": [
    "#### process_data\n",
    "\n",
    "converts OUTCARs to `.npy` via `dpdata` package, separating data into training and validation directories based on a defined training split proportion."
   ]
  },
  {
   "cell_type": "code",
   "execution_count": 49,
   "metadata": {},
   "outputs": [],
   "source": [
    "#import functions\n",
    "from data_prep.process_data import OUTCAR_to_ms,OUTCAR_to_npy,train_test_split"
   ]
  },
  {
   "cell_type": "code",
   "execution_count": 50,
   "metadata": {},
   "outputs": [],
   "source": [
    "#define parameters to be used in functions \n",
    "par = '/blue/subhash/kimia.gh/B4C_ML_Potential/data/devel/B4C'\n",
    "dest = '/home/kimia.gh/blue2/python_course/DeeperMD/example'\n",
    "sub = ['temperature_hold','small_strains']\n",
    "run = ['temperature_hold','shear_strain','volumetric_strain','uniaxial_strain']"
   ]
  },
  {
   "cell_type": "markdown",
   "metadata": {},
   "source": [
    "<div>\n",
    "<img src=\"images/deepermd_file_Artboard_2.png\" width=\"1000\"/>\n",
    "</div>"
   ]
  },
  {
   "cell_type": "markdown",
   "metadata": {},
   "source": [
    "#### `OUTCAR_to_ms`\n",
    "\n",
    "converts OUTCARs from given `parent_directory` to DeepMD MultiSystem() object for storage of systems and data management."
   ]
  },
  {
   "cell_type": "code",
   "execution_count": 51,
   "metadata": {},
   "outputs": [],
   "source": [
    "#convert OUTCAR to deepmd MultiSystem() object \n",
    "ms,ms_virial,count_novirial,count_virial = OUTCAR_to_ms(\n",
    "    parent_dir=par,\n",
    "    sub_dirs=sub,\n",
    "    run_types=run,\n",
    "    )"
   ]
  },
  {
   "cell_type": "code",
   "execution_count": 52,
   "metadata": {},
   "outputs": [
    {
     "data": {
      "text/plain": [
       "{'B104C16': Data Summary\n",
       " Labeled System\n",
       " -------------------\n",
       " Frame Numbers      : 100\n",
       " Atom Numbers       : 120\n",
       " Including Virials  : No\n",
       " Element List       :\n",
       " -------------------\n",
       " B  C\n",
       " 104  16,\n",
       " 'B96C24': Data Summary\n",
       " Labeled System\n",
       " -------------------\n",
       " Frame Numbers      : 100\n",
       " Atom Numbers       : 120\n",
       " Including Virials  : No\n",
       " Element List       :\n",
       " -------------------\n",
       " B  C\n",
       " 96  24}"
      ]
     },
     "execution_count": 52,
     "metadata": {},
     "output_type": "execute_result"
    }
   ],
   "source": [
    "ms.systems"
   ]
  },
  {
   "cell_type": "code",
   "execution_count": 53,
   "metadata": {},
   "outputs": [
    {
     "data": {
      "text/plain": [
       "{'B104C16': Data Summary\n",
       " Labeled System\n",
       " -------------------\n",
       " Frame Numbers      : 600\n",
       " Atom Numbers       : 120\n",
       " Including Virials  : Yes\n",
       " Element List       :\n",
       " -------------------\n",
       " B  C\n",
       " 104  16,\n",
       " 'B96C24': Data Summary\n",
       " Labeled System\n",
       " -------------------\n",
       " Frame Numbers      : 600\n",
       " Atom Numbers       : 120\n",
       " Including Virials  : Yes\n",
       " Element List       :\n",
       " -------------------\n",
       " B  C\n",
       " 96  24}"
      ]
     },
     "execution_count": 53,
     "metadata": {},
     "output_type": "execute_result"
    }
   ],
   "source": [
    "ms_virial.systems"
   ]
  },
  {
   "cell_type": "code",
   "execution_count": 54,
   "metadata": {},
   "outputs": [
    {
     "data": {
      "text/plain": [
       "{'temperature_hold': 1200,\n",
       " 'shear_strain': 0,\n",
       " 'volumetric_strain': 0,\n",
       " 'uniaxial_strain': 0}"
      ]
     },
     "execution_count": 54,
     "metadata": {},
     "output_type": "execute_result"
    }
   ],
   "source": [
    "count_virial"
   ]
  },
  {
   "cell_type": "code",
   "execution_count": 55,
   "metadata": {},
   "outputs": [
    {
     "data": {
      "text/plain": [
       "MultiSystems (2 systems containing 1200 frames)"
      ]
     },
     "execution_count": 55,
     "metadata": {},
     "output_type": "execute_result"
    }
   ],
   "source": [
    "#Convert systems to npy files via deepmd package \n",
    "ms.to_deepmd_npy(os.path.join(dest,'no_virials'),set_size = 1000000)\n",
    "ms_virial.to_deepmd_npy(os.path.join(dest,'virials'),set_size = 1000000)"
   ]
  },
  {
   "cell_type": "markdown",
   "metadata": {},
   "source": [
    "#### `train_test_split`\n",
    "\n",
    "scrubs through a directory with `.npy` files and splits them into training and validation directories."
   ]
  },
  {
   "cell_type": "code",
   "execution_count": 56,
   "metadata": {},
   "outputs": [],
   "source": [
    "train_test_split(\n",
    "    destination_dir='/home/kimia.gh/blue2/python_course/DeeperMD/example',\n",
    "    train_split=0.9,\n",
    "    ms_virial=ms_virial,\n",
    "    ms=ms)"
   ]
  },
  {
   "cell_type": "markdown",
   "metadata": {},
   "source": [
    "#### `OUTCAR_to_npy`\n",
    "\n",
    "Combines the above functions in one end-to-end method to simplify data preparation stage."
   ]
  },
  {
   "cell_type": "code",
   "execution_count": 58,
   "metadata": {},
   "outputs": [],
   "source": [
    "ms_nov,ms_v,count_nov,count_v = OUTCAR_to_npy(\n",
    "    parent_dir=par,\n",
    "    destination_dir='/home/kimia.gh/blue2/python_course/DeeperMD/example_2',\n",
    "    run_types=run)"
   ]
  },
  {
   "cell_type": "markdown",
   "metadata": {},
   "source": [
    "### cross_val \n",
    "\n",
    "[TO-DO]\n",
    "\n",
    "This sub-module splits training and validation data into k-sets for use in k-fold cross-validation. This is a mostly back-end package for use in hyperparameter optimization data preparation.\n"
   ]
  },
  {
   "cell_type": "markdown",
   "metadata": {},
   "source": [
    "## Model Training Sub-Package\n",
    "\n",
    "separated into 4 sub-modules: `hyperparam_optimization`, `hyperparam_train_test`, `post_training_handling`, and `train`."
   ]
  },
  {
   "cell_type": "code",
   "execution_count": 26,
   "metadata": {},
   "outputs": [],
   "source": [
    "import hyperparam_optimization, hyperparam_train_test, post_training_handling, train"
   ]
  },
  {
   "cell_type": "markdown",
   "metadata": {},
   "source": [
    "define parameters and their values for optimization"
   ]
  },
  {
   "cell_type": "code",
   "execution_count": 27,
   "metadata": {},
   "outputs": [],
   "source": [
    "params={\n",
    "    \"model descriptor axis_neuron\":[4,8],\n",
    "    \"model fitting_net neuron\":[[10,10]]\n",
    "    }"
   ]
  },
  {
   "cell_type": "markdown",
   "metadata": {},
   "source": [
    "#### Submodule `post_training_handling` \n",
    "\n",
    "This submodule includes functions pertinent to post training processing. These functions include: freezing models (`post_training_handling.freeze()`), compressing models (`post_training_handling.compress()`), testing models (`post_training_handling.test()`), lammps input script modification (`post_training_handling.lammps_lat_const_modifier()`), and lammps lattice constant simulations (`post_training_handling.lattice_constants()`).\n",
    "\n",
    "In the cell below we call `lammps_lat_const_modifier` to modify a LAMMPS input script so it performs a simulation using correct data and model."
   ]
  },
  {
   "cell_type": "code",
   "execution_count": 29,
   "metadata": {},
   "outputs": [
    {
     "name": "stdout",
     "output_type": "stream",
     "text": [
      "['# Mark Tschopp, 2010\\n', '\\n', '# ---------- Initialize Simulation --------------------- \\n', 'clear \\n', 'units metal \\n', 'boundary p p p \\n', 'atom_style atomic \\n', 'read_data /blue/subhash/michaelmacisaac/functions/deepmd/model1/data.b4c_cell \\n', '\\n', '# ---------- Create Atoms --------------------- \\n']\n"
     ]
    }
   ],
   "source": [
    "post_training_handling.lammps_lat_const_modifier(\n",
    "    model='graph_compress.pb',\n",
    "    data='/blue/subhash/michaelmacisaac/functions/deepmd/model1/data.b4c_cell',\n",
    "    lammps_script='in.lattice_constants')"
   ]
  },
  {
   "cell_type": "code",
   "execution_count": 30,
   "metadata": {},
   "outputs": [],
   "source": [
    "train_paths='/home/kimia.gh/blue2/python_course/test_03/virials/training_data'\n",
    "val_paths='/home/kimia.gh/blue2/python_course/test_03/virials/validation_data'"
   ]
  },
  {
   "cell_type": "markdown",
   "metadata": {},
   "source": [
    "#### Submodule `hyperparam_optimization`\n",
    "This submodule includes the `json_dir_gen_1d` function which when given a dictionary of parameters and a base input json file, will generate input json files and corresponding directories for 1d hyperparamter optimization. Model jsons will be stored in a directory titled '1d_gridsearch'."
   ]
  },
  {
   "cell_type": "code",
   "execution_count": null,
   "metadata": {},
   "outputs": [],
   "source": [
    "hyperparam_optimization.json_dir_gen_1d(\n",
    "    base_json='base.json', \n",
    "    param_dict=params, \n",
    "    training_paths=train_paths, \n",
    "    validation_paths=val_paths,\n",
    "    crossval=False,\n",
    "    d1_dir='1d_gridsearch')"
   ]
  },
  {
   "cell_type": "markdown",
   "metadata": {},
   "source": [
    "#### Submodule `hyperparam_train_test`\n",
    "This submodule features the `hperparam_train_test()` function. This function trains models using the input jsons generated via `hyperparam_optimization.json_dir_gen_1d()` and the `train()` function from the `train` submodule. This function also calls the following functions from `post_training_handling` submodule: `freeze()`, `compress()`, `test()`, and optionally `lattice_constants()` if it is desired to evaluate lattice constants and cohesive energy of a structure using trained models.\n",
    "The function includes many optional arguments, including: whether to perform lammps simulations, whether to compress models, and whether to perform cross validation.\n",
    "The function produces a .txt file, where model performance (error) is reported for given key parameters."
   ]
  },
  {
   "cell_type": "markdown",
   "metadata": {},
   "source": [
    "\n",
    "```\n",
    "hyperparam_train_test.hyperparam_train_test(\n",
    "    directory='/home/kimia.gh/blue2/python_course/DeeperMD/',\n",
    "    d1_dir='1d_gridsearch',\n",
    "    lammps_script='/home/kimia.gh/blue2/python_course/DeeperMD/in.lattice_constants', \n",
    "    ref_len=5.65,\n",
    "    ref_coh=-7.2183,\n",
    "    test_path='/home/kimia.gh/blue2/python_course/test_03/virials/validation_data',\n",
    "    n=40,\n",
    "    multisystem=True,\n",
    "    compression=True,\n",
    "    crossval=False)\n",
    "\n",
    "```"
   ]
  },
  {
   "cell_type": "markdown",
   "metadata": {},
   "source": [
    "# Model Validation Sub-Package"
   ]
  },
  {
   "cell_type": "markdown",
   "metadata": {},
   "source": [
    "[TO-DO]\n",
    "\n",
    "This module combines the LAMMPS python package API and the DeePMD-kit API to enable validation of models with MD-based quantities (melting point, elastic constants, etc.). \n"
   ]
  }
 ],
 "metadata": {
  "kernelspec": {
   "display_name": "Python 3.10.8 ('deepermd')",
   "language": "python",
   "name": "python3"
  },
  "language_info": {
   "codemirror_mode": {
    "name": "ipython",
    "version": 3
   },
   "file_extension": ".py",
   "mimetype": "text/x-python",
   "name": "python",
   "nbconvert_exporter": "python",
   "pygments_lexer": "ipython3",
   "version": "3.10.8"
  },
  "orig_nbformat": 4,
  "vscode": {
   "interpreter": {
    "hash": "af0b44fdec19277a9a521a038825b96fd2554ac4172a2ea0932ca4e35e13d54c"
   }
  }
 },
 "nbformat": 4,
 "nbformat_minor": 2
}
